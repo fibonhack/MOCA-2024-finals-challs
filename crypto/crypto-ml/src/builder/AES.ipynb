{
 "cells": [
  {
   "cell_type": "code",
   "execution_count": 1,
   "metadata": {},
   "outputs": [
    {
     "name": "stderr",
     "output_type": "stream",
     "text": [
      "c:\\Users\\mrcgg\\anaconda3\\envs\\ML-pytorch\\lib\\site-packages\\tqdm\\auto.py:21: TqdmWarning: IProgress not found. Please update jupyter and ipywidgets. See https://ipywidgets.readthedocs.io/en/stable/user_install.html\n",
      "  from .autonotebook import tqdm as notebook_tqdm\n"
     ]
    }
   ],
   "source": [
    "import torch\n",
    "import torch.nn as nn\n",
    "device = \"cuda\"\n",
    "device = torch.device(device)"
   ]
  },
  {
   "cell_type": "code",
   "execution_count": 38,
   "metadata": {},
   "outputs": [
    {
     "name": "stdout",
     "output_type": "stream",
     "text": [
      "b'p\\xbc.J\\xbb$\\xb7\\x8f\\xc8\\x17]\\xf9\\x84J@\\x10'\n",
      "AES model test passed\n",
      "Unexpected exception formatting exception. Falling back to standard exception\n"
     ]
    },
    {
     "name": "stderr",
     "output_type": "stream",
     "text": [
      "Traceback (most recent call last):\n",
      "  File \"c:\\Users\\mrcgg\\anaconda3\\envs\\ML-pytorch\\lib\\site-packages\\IPython\\core\\interactiveshell.py\", line 3508, in run_code\n",
      "    exec(code_obj, self.user_global_ns, self.user_ns)\n",
      "  File \"C:\\Users\\mrcgg\\AppData\\Local\\Temp\\ipykernel_18856\\2797923341.py\", line 1, in <module>\n",
      "    from builder import *\n",
      "  File \"j:\\Il mio Drive\\CC\\crypto\\vettocon\\AES-ML\\builder\\builder.py\", line 470, in <module>\n",
      "    assert True == False\n",
      "AssertionError\n",
      "\n",
      "During handling of the above exception, another exception occurred:\n",
      "\n",
      "Traceback (most recent call last):\n",
      "  File \"c:\\Users\\mrcgg\\anaconda3\\envs\\ML-pytorch\\lib\\site-packages\\IPython\\core\\interactiveshell.py\", line 2105, in showtraceback\n",
      "    stb = self.InteractiveTB.structured_traceback(\n",
      "  File \"c:\\Users\\mrcgg\\anaconda3\\envs\\ML-pytorch\\lib\\site-packages\\IPython\\core\\ultratb.py\", line 1396, in structured_traceback\n",
      "    return FormattedTB.structured_traceback(\n",
      "  File \"c:\\Users\\mrcgg\\anaconda3\\envs\\ML-pytorch\\lib\\site-packages\\IPython\\core\\ultratb.py\", line 1287, in structured_traceback\n",
      "    return VerboseTB.structured_traceback(\n",
      "  File \"c:\\Users\\mrcgg\\anaconda3\\envs\\ML-pytorch\\lib\\site-packages\\IPython\\core\\ultratb.py\", line 1140, in structured_traceback\n",
      "    formatted_exception = self.format_exception_as_a_whole(etype, evalue, etb, number_of_lines_of_context,\n",
      "  File \"c:\\Users\\mrcgg\\anaconda3\\envs\\ML-pytorch\\lib\\site-packages\\IPython\\core\\ultratb.py\", line 1055, in format_exception_as_a_whole\n",
      "    frames.append(self.format_record(record))\n",
      "  File \"c:\\Users\\mrcgg\\anaconda3\\envs\\ML-pytorch\\lib\\site-packages\\IPython\\core\\ultratb.py\", line 955, in format_record\n",
      "    frame_info.lines, Colors, self.has_colors, lvals\n",
      "  File \"c:\\Users\\mrcgg\\anaconda3\\envs\\ML-pytorch\\lib\\site-packages\\IPython\\core\\ultratb.py\", line 778, in lines\n",
      "    return self._sd.lines\n",
      "  File \"c:\\Users\\mrcgg\\anaconda3\\envs\\ML-pytorch\\lib\\site-packages\\stack_data\\utils.py\", line 145, in cached_property_wrapper\n",
      "    value = obj.__dict__[self.func.__name__] = self.func(obj)\n",
      "  File \"c:\\Users\\mrcgg\\anaconda3\\envs\\ML-pytorch\\lib\\site-packages\\stack_data\\core.py\", line 698, in lines\n",
      "    pieces = self.included_pieces\n",
      "  File \"c:\\Users\\mrcgg\\anaconda3\\envs\\ML-pytorch\\lib\\site-packages\\stack_data\\utils.py\", line 145, in cached_property_wrapper\n",
      "    value = obj.__dict__[self.func.__name__] = self.func(obj)\n",
      "  File \"c:\\Users\\mrcgg\\anaconda3\\envs\\ML-pytorch\\lib\\site-packages\\stack_data\\core.py\", line 649, in included_pieces\n",
      "    pos = scope_pieces.index(self.executing_piece)\n",
      "  File \"c:\\Users\\mrcgg\\anaconda3\\envs\\ML-pytorch\\lib\\site-packages\\stack_data\\utils.py\", line 145, in cached_property_wrapper\n",
      "    value = obj.__dict__[self.func.__name__] = self.func(obj)\n",
      "  File \"c:\\Users\\mrcgg\\anaconda3\\envs\\ML-pytorch\\lib\\site-packages\\stack_data\\core.py\", line 628, in executing_piece\n",
      "    return only(\n",
      "  File \"c:\\Users\\mrcgg\\anaconda3\\envs\\ML-pytorch\\lib\\site-packages\\executing\\executing.py\", line 164, in only\n",
      "    raise NotOneValueFound('Expected one value, found 0')\n",
      "executing.executing.NotOneValueFound: Expected one value, found 0\n"
     ]
    },
    {
     "ename": "",
     "evalue": "",
     "output_type": "error",
     "traceback": [
      "\u001b[1;31mThe Kernel crashed while executing code in the current cell or a previous cell. \n",
      "\u001b[1;31mPlease review the code in the cell(s) to identify a possible cause of the failure. \n",
      "\u001b[1;31mClick <a href='https://aka.ms/vscodeJupyterKernelCrash'>here</a> for more info. \n",
      "\u001b[1;31mView Jupyter <a href='command:jupyter.viewOutput'>log</a> for further details."
     ]
    }
   ],
   "source": [
    "from builder import *"
   ]
  },
  {
   "cell_type": "code",
   "execution_count": 27,
   "metadata": {},
   "outputs": [
    {
     "data": {
      "text/plain": [
       "'0x63'"
      ]
     },
     "execution_count": 27,
     "metadata": {},
     "output_type": "execute_result"
    }
   ],
   "source": [
    "S = [ 0x63, 0x7c, 0x77, 0x7b, 0xf2, 0x6b, 0x6f, 0xc5, 0x30, 0x01, 0x67, 0x2b, 0xfe, 0xd7, 0xab, 0x76, 0xca, 0x82, 0xc9, 0x7d, 0xfa, 0x59, 0x47, 0xf0, 0xad, 0xd4, 0xa2, 0xaf, 0x9c, 0xa4, 0x72, 0xc0, 0xb7, 0xfd, 0x93, 0x26, 0x36, 0x3f, 0xf7, 0xcc, 0x34, 0xa5, 0xe5, 0xf1, 0x71, 0xd8, 0x31, 0x15, 0x04, 0xc7, 0x23, 0xc3, 0x18, 0x96, 0x05, 0x9a, 0x07, 0x12, 0x80, 0xe2, 0xeb, 0x27, 0xb2, 0x75, 0x09, 0x83, 0x2c, 0x1a, 0x1b, 0x6e, 0x5a, 0xa0, 0x52, 0x3b, 0xd6, 0xb3, 0x29, 0xe3, 0x2f, 0x84, 0x53, 0xd1, 0x00, 0xed, 0x20, 0xfc, 0xb1, 0x5b, 0x6a, 0xcb, 0xbe, 0x39, 0x4a, 0x4c, 0x58, 0xcf, 0xd0, 0xef, 0xaa, 0xfb, 0x43, 0x4d, 0x33, 0x85, 0x45, 0xf9, 0x02, 0x7f, 0x50, 0x3c, 0x9f, 0xa8, 0x51, 0xa3, 0x40, 0x8f, 0x92, 0x9d, 0x38, 0xf5, 0xbc, 0xb6, 0xda, 0x21, 0x10, 0xff, 0xf3, 0xd2, 0xcd, 0x0c, 0x13, 0xec, 0x5f, 0x97, 0x44, 0x17, 0xc4, 0xa7, 0x7e, 0x3d, 0x64, 0x5d, 0x19, 0x73, 0x60, 0x81, 0x4f, 0xdc, 0x22, 0x2a, 0x90, 0x88, 0x46, 0xee, 0xb8, 0x14, 0xde, 0x5e, 0x0b, 0xdb, 0xe0, 0x32, 0x3a, 0x0a, 0x49, 0x06, 0x24, 0x5c, 0xc2, 0xd3, 0xac, 0x62, 0x91, 0x95, 0xe4, 0x79, 0xe7, 0xc8, 0x37, 0x6d, 0x8d, 0xd5, 0x4e, 0xa9, 0x6c, 0x56, 0xf4, 0xea, 0x65, 0x7a, 0xae, 0x08, 0xba, 0x78, 0x25, 0x2e, 0x1c, 0xa6, 0xb4, 0xc6, 0xe8, 0xdd, 0x74, 0x1f, 0x4b, 0xbd, 0x8b, 0x8a, 0x70, 0x3e, 0xb5, 0x66, 0x48, 0x03, 0xf6, 0x0e, 0x61, 0x35, 0x57, 0xb9, 0x86, 0xc1, 0x1d, 0x9e, 0xe1, 0xf8, 0x98, 0x11, 0x69, 0xd9, 0x8e, 0x94, 0x9b, 0x1e, 0x87, 0xe9, 0xce, 0x55, 0x28, 0xdf, 0x8c, 0xa1, 0x89, 0x0d, 0xbf, 0xe6, 0x42, 0x68, 0x41, 0x99, 0x2d, 0x0f, 0xb0, 0x54, 0xbb, 0x16 ]\n",
    "hex(S[0])"
   ]
  },
  {
   "cell_type": "code",
   "execution_count": 3,
   "metadata": {},
   "outputs": [],
   "source": [
    "class AES(nn.Module):\n",
    "    def __init__(self, key):\n",
    "        super(AES, self).__init__()\n",
    "        self.key_expaded = get_expanded_key(key)\n",
    "        self.Not = get_not()\n",
    "        self.Nop = get_nop()\n",
    "        self.Sbox = get_sbox()\n",
    "        self.ShiftRows = get_shiftrows()\n",
    "        self.MixColumns = get_mixcolumns()\n",
    "    \n",
    "    def addroundkey(self, x: torch.Tensor, key):\n",
    "        key = int.from_bytes(key, byteorder='big')\n",
    "        for i in range(8*16):\n",
    "            if ((key>>(8*16-1-i)) & 1) == 0:\n",
    "                # print(\"Nop\")\n",
    "                x[:,i] = self.Nop(x[:,i])\n",
    "            else:\n",
    "                # print(\"Not\")\n",
    "                x[:,i] = self.Not(x[:,i])\n",
    "        return x\n",
    "\n",
    "    def apply_byte(self, x, fun):\n",
    "        for i in range(16):\n",
    "            x[:,i*8:(i+1)*8] = fun(x[:,i*8:(i+1)*8])\n",
    "        return x\n",
    "    \n",
    "    def apply_column(self, x, fun):\n",
    "        out = x.reshape(-1, 4, 4*8)\n",
    "        for i in range(4):\n",
    "            out[:,i*4:(i+1)*4] = fun(out[:,i*4:(i+1)*4])\n",
    "        out = out.reshape(-1, 16*8)\n",
    "        return out\n",
    "\n",
    "    def forward(self, x):\n",
    "        out = x\n",
    "        out = self.addroundkey(out, self.key_expaded[0])\n",
    "        for i in range(1,10):\n",
    "            out = self.apply_byte(out, self.Sbox)\n",
    "            out = out.reshape(-1, 4, 4, 8).transpose(1,2).reshape(-1, 16*8)\n",
    "            out = self.ShiftRows(out)\n",
    "            out = out.reshape(-1, 4, 4, 8).transpose(1,2).reshape(-1, 16*8)\n",
    "            out = self.apply_column(out, self.MixColumns)\n",
    "            out = self.addroundkey(out, self.key_expaded[i])         \n",
    "        out = self.apply_byte(out, self.Sbox)\n",
    "        out = out.reshape(-1, 4, 4, 8).transpose(1,2).reshape(-1, 16*8)\n",
    "        out = self.ShiftRows(out)\n",
    "        out = out.reshape(-1, 4, 4, 8).transpose(1,2).reshape(-1, 16*8)\n",
    "        out = self.addroundkey(out, self.key_expaded[10])\n",
    "        return out"
   ]
  },
  {
   "cell_type": "code",
   "execution_count": 4,
   "metadata": {},
   "outputs": [],
   "source": [
    "class AES(nn.Module):\n",
    "    def __init__(self, key):\n",
    "        super(AES, self).__init__()\n",
    "        key_expaded = get_expanded_key(key)\n",
    "        self.key_layers = []\n",
    "        for k in key_expaded:\n",
    "            self.key_layers.append(get_xor_layer(k))\n",
    "        self.Not = get_not()\n",
    "        self.Nop = get_nop()\n",
    "        self.Sbox = get_sbox()\n",
    "        self.ShiftRows = get_shiftrows()\n",
    "        self.MixColumns = get_mixcolumns()\n",
    "\n",
    "    def forward(self, x):\n",
    "        out = x.reshape(-1, 4, 4, 8).transpose(1,2).reshape(-1, 16*8)\n",
    "        out = self.key_layers[0](out)\n",
    "        for i in range(1,len(self.key_layers)-1):\n",
    "            # print(f\"after addroundkey {i-1}\", \" \".join([hex(a)[2:] for a in lin_to_list(out[0])]))\n",
    "            out = self.Sbox(out)\n",
    "            # print(f\"after sbox {i}\", \" \".join([hex(a)[2:] for a in lin_to_list(out[0])]))\n",
    "            out = self.ShiftRows(out)\n",
    "            # print(f\"after shiftrows {i}\", \" \".join([hex(a)[2:] for a in lin_to_list(out[0])]))\n",
    "            out =  self.MixColumns(out)\n",
    "            # print(f\"after mixcolumns {i}\", \" \".join([hex(a)[2:] for a in lin_to_list(out[0])]))\n",
    "            out = self.key_layers[i](out)\n",
    "            \n",
    "        out = self.Sbox(out)\n",
    "        # print(f\"after sbox {i}\", \" \".join([hex(a)[2:] for a in lin_to_list(out[0])]))\n",
    "        out = self.ShiftRows(out)\n",
    "        # print(f\"after shiftrows {i}\", \" \".join([hex(a)[2:] for a in lin_to_list(out[0])]))\n",
    "        out = self.key_layers[-1](out)\n",
    "        # print(f\"after addroundkey {i}\", \" \".join([hex(a)[2:] for a in lin_to_list(out[0])]))\n",
    "        out = out.reshape(-1, 4, 4, 8).transpose(1,2).reshape(-1, 16*8)\n",
    "        # print(f\"after reshape {i}\", \" \".join([hex(a)[2:] for a in lin_to_list(out[0])]))\n",
    "        return out"
   ]
  },
  {
   "cell_type": "code",
   "execution_count": null,
   "metadata": {},
   "outputs": [],
   "source": []
  },
  {
   "cell_type": "code",
   "execution_count": 5,
   "metadata": {},
   "outputs": [],
   "source": [
    "key = b\"\\x00\\x00\\x00\\x00\\x00\\x00\\x00\\x00\\x0f\\x00\\x00\\x00\\x00\\x00\\x00\\x00\"*2"
   ]
  },
  {
   "cell_type": "code",
   "execution_count": 6,
   "metadata": {},
   "outputs": [],
   "source": [
    "inp = b\"\\x00\\x00\\x01\\x00\\x0f\\x00\\x00\\x00\\x00\\x00\\x00\\x00\\x00\\x00\\x00\\x00\""
   ]
  },
  {
   "cell_type": "code",
   "execution_count": 7,
   "metadata": {},
   "outputs": [
    {
     "name": "stdout",
     "output_type": "stream",
     "text": [
      "86d8a98c5970c26ca36489fa6cb331c9\n"
     ]
    }
   ],
   "source": [
    "model = AES(key).to(device)\n",
    "x = torch.cat(bin_list(inp)).reshape(1, 16*8).to(device)\n",
    "out = model(x)\n",
    "out = bytes([a for a in lin_to_list(out[0])])\n",
    "print(out.hex())"
   ]
  },
  {
   "cell_type": "code",
   "execution_count": null,
   "metadata": {},
   "outputs": [],
   "source": []
  },
  {
   "cell_type": "code",
   "execution_count": 8,
   "metadata": {},
   "outputs": [
    {
     "name": "stdout",
     "output_type": "stream",
     "text": [
      "86d8a98c5970c26ca36489fa6cb331c9\n",
      "['0x86', '0xd8', '0xa9', '0x8c', '0x59', '0x70', '0xc2', '0x6c', '0xa3', '0x64', '0x89', '0xfa', '0x6c', '0xb3', '0x31', '0xc9']\n"
     ]
    }
   ],
   "source": [
    "from Crypto.Cipher import AES as AES2\n",
    "aes = AES2.new(key, AES2.MODE_ECB)\n",
    "res = aes.encrypt(inp)\n",
    "print(res.hex())\n",
    "print([hex(a) for a in res])"
   ]
  },
  {
   "cell_type": "code",
   "execution_count": 9,
   "metadata": {},
   "outputs": [
    {
     "name": "stdout",
     "output_type": "stream",
     "text": [
      "True\n"
     ]
    }
   ],
   "source": [
    "print(res == out)"
   ]
  },
  {
   "cell_type": "code",
   "execution_count": null,
   "metadata": {},
   "outputs": [],
   "source": []
  }
 ],
 "metadata": {
  "kernelspec": {
   "display_name": "ML-pytorch",
   "language": "python",
   "name": "python3"
  },
  "language_info": {
   "codemirror_mode": {
    "name": "ipython",
    "version": 3
   },
   "file_extension": ".py",
   "mimetype": "text/x-python",
   "name": "python",
   "nbconvert_exporter": "python",
   "pygments_lexer": "ipython3",
   "version": "3.8.18"
  },
  "orig_nbformat": 4,
  "vscode": {
   "interpreter": {
    "hash": "1c4a0582a2f0c696ca3bf144d7a797081d9cfe83a50d52b918de14dcec4b2aff"
   }
  }
 },
 "nbformat": 4,
 "nbformat_minor": 2
}
